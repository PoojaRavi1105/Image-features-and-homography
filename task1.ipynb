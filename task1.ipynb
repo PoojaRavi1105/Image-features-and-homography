{
 "cells": [
  {
   "cell_type": "code",
   "execution_count": 141,
   "metadata": {},
   "outputs": [],
   "source": [
    "import cv2 as cv\n",
    "import numpy as np\n",
    "import random"
   ]
  },
  {
   "cell_type": "code",
   "execution_count": 142,
   "metadata": {},
   "outputs": [],
   "source": [
    "UBIT = 'pravi'\n",
    "np.random.seed(sum([ord(a) for a in UBIT]))"
   ]
  },
  {
   "cell_type": "markdown",
   "metadata": {},
   "source": [
    "# Extract SIFT features and draw the keypoints"
   ]
  },
  {
   "cell_type": "code",
   "execution_count": 143,
   "metadata": {},
   "outputs": [],
   "source": [
    "def extract_sift(filepath,output_file):\n",
    "    img = cv.imread(filepath)\n",
    "    gray = cv.imread(filepath,0)\n",
    "    sift = cv.xfeatures2d.SIFT_create()\n",
    "    kp = sift.detect(gray,None)\n",
    "    kpimg = cv.drawKeypoints(gray, kp, None, flags=cv.DRAW_MATCHES_FLAGS_DRAW_RICH_KEYPOINTS)\n",
    "    cv.imwrite(output_file,kpimg)"
   ]
  },
  {
   "cell_type": "code",
   "execution_count": 144,
   "metadata": {},
   "outputs": [],
   "source": [
    "extract_sift('mountain1.jpg','task1_sift1.jpg')"
   ]
  },
  {
   "cell_type": "code",
   "execution_count": 145,
   "metadata": {},
   "outputs": [],
   "source": [
    "extract_sift('mountain2.jpg','task1_sift2.jpg')"
   ]
  },
  {
   "cell_type": "markdown",
   "metadata": {},
   "source": [
    "# Good matches "
   ]
  },
  {
   "cell_type": "code",
   "execution_count": 146,
   "metadata": {},
   "outputs": [
    {
     "data": {
      "text/plain": [
       "True"
      ]
     },
     "execution_count": 146,
     "metadata": {},
     "output_type": "execute_result"
    }
   ],
   "source": [
    "img1 = cv.imread('mountain1.jpg')\n",
    "img2 = cv.imread('mountain2.jpg')\n",
    "img1_gray = cv.imread('mountain1.jpg',0)\n",
    "img2_gray = cv.imread('mountain2.jpg',0)\n",
    "\n",
    "sift = cv.xfeatures2d.SIFT_create()\n",
    "# find the keypoints and descriptors with SIFT\n",
    "kp1, des1 = sift.detectAndCompute(img1,None)\n",
    "kp2, des2 = sift.detectAndCompute(img2,None)\n",
    "\n",
    "# BFMatcher with default params\n",
    "bf = cv.BFMatcher()\n",
    "matches = bf.knnMatch(des1,des2, k=2)\n",
    "\n",
    "# Apply ratio test\n",
    "good = []\n",
    "pts1 = []\n",
    "pts2 = []\n",
    "for m,n in matches:\n",
    "    if m.distance < 0.75*n.distance:\n",
    "        good.append(m)\n",
    "        pts2.append(kp2[m.trainIdx].pt)\n",
    "        pts1.append(kp1[m.queryIdx].pt)\n",
    "\n",
    "# cv2.drawMatchesKnn expects list of lists as matches.\n",
    "img3 = cv.drawMatches(img1,kp1,img2,kp2,good,None,flags=2)\n",
    "cv.imwrite('task1_matches_knn.jpg',img3)"
   ]
  },
  {
   "cell_type": "markdown",
   "metadata": {},
   "source": [
    "# Homography matrix"
   ]
  },
  {
   "cell_type": "code",
   "execution_count": 147,
   "metadata": {},
   "outputs": [],
   "source": [
    "MIN_MATCH_COUNT = 10\n",
    "if len(good)>MIN_MATCH_COUNT:\n",
    "    src_pts = np.float32([ kp1[m.queryIdx].pt for m in good ]).reshape(-1,1,2)\n",
    "    dst_pts = np.float32([ kp2[m.trainIdx].pt for m in good ]).reshape(-1,1,2)\n",
    "\n",
    "    M, mask = cv.findHomography(src_pts, dst_pts, cv.RANSAC,5.0)\n",
    "    matchesMask = mask.ravel().tolist()\n",
    "\n",
    "    h,w = img1_gray.shape\n",
    "    pts = np.float32([ [0,0],[0,h-1],[w-1,h-1],[w-1,0] ]).reshape(-1,1,2)\n",
    "    dst = cv.perspectiveTransform(pts,M)\n",
    "\n",
    "else:\n",
    "    print (\"Not enough matches are found\",len(good),MIN_MATCH_COUNT)\n",
    "    matchesMask = None"
   ]
  },
  {
   "cell_type": "code",
   "execution_count": 148,
   "metadata": {},
   "outputs": [],
   "source": [
    "draw_params = dict(matchColor = (255,0,0), # draw matches in red color\n",
    "                   singlePointColor = None,\n",
    "                   matchesMask = matchesMask[:10], # draw only 10 inliers\n",
    "                   flags = 2)\n",
    "\n",
    "img3 = cv.drawMatches(img1,kp1,img2,kp2,good[:10],None,**draw_params)"
   ]
  },
  {
   "cell_type": "code",
   "execution_count": 149,
   "metadata": {},
   "outputs": [
    {
     "data": {
      "text/plain": [
       "True"
      ]
     },
     "execution_count": 149,
     "metadata": {},
     "output_type": "execute_result"
    }
   ],
   "source": [
    "cv.imwrite('Homography.jpg',img3)"
   ]
  },
  {
   "cell_type": "code",
   "execution_count": 150,
   "metadata": {},
   "outputs": [
    {
     "name": "stdout",
     "output_type": "stream",
     "text": [
      "[[ 1.58720376e+00 -2.91747553e-01 -3.95226519e+02]\n",
      " [ 4.48097764e-01  1.43063310e+00 -1.90273584e+02]\n",
      " [ 1.20808480e-03 -6.07787703e-05  1.00000000e+00]]\n"
     ]
    }
   ],
   "source": [
    "#Print homography matrix\n",
    "print(M)"
   ]
  },
  {
   "cell_type": "code",
   "execution_count": 151,
   "metadata": {},
   "outputs": [
    {
     "data": {
      "text/plain": [
       "True"
      ]
     },
     "execution_count": 151,
     "metadata": {},
     "output_type": "execute_result"
    }
   ],
   "source": [
    "random_pt1 = []\n",
    "random_pt2 = []\n",
    "for i in [np.random.randint(0,len(good)-1) for x in range(10)]:\n",
    "    random_pt1.append(good[i])\n",
    "    random_pt2.append(matchesMask[i]) \n",
    "draw_params_2 = dict(matchColor = (0,255,0), # draw matches in red color\n",
    "                   singlePointColor = None,\n",
    "                   matchesMask = random_pt2, # draw only 10 inliers\n",
    "                   flags = 2)\n",
    "\n",
    "img4 = cv.drawMatches(img1,kp1,img2,kp2,random_pt1,None,**draw_params_2)\n",
    "cv.imwrite('task1_matches.jpg',img4)"
   ]
  },
  {
   "cell_type": "markdown",
   "metadata": {},
   "source": [
    "# Warp the two images"
   ]
  },
  {
   "cell_type": "code",
   "execution_count": 103,
   "metadata": {},
   "outputs": [],
   "source": [
    "def warpImages(img1, img2, H):\n",
    "    rows1, cols1 = img1.shape[:2]\n",
    "    rows2, cols2 = img2.shape[:2]\n",
    "\n",
    "    list_of_points_1 = np.float32([[0,0], [0,rows1], [cols1, rows1], [cols1,0]]).reshape(-1,1,2)\n",
    "    temp_points = np.float32([[0,0], [0,rows2], [cols2, rows2], [cols2,0]]).reshape(-1,1,2)\n",
    "\n",
    "    list_of_points_2 = cv.perspectiveTransform(temp_points, H)\n",
    "    list_of_points = np.concatenate((list_of_points_1, list_of_points_2), axis=0)\n",
    "\n",
    "    [x_min, y_min] = np.int32(list_of_points.min(axis=0).ravel() - 0.5)\n",
    "    [x_max, y_max] = np.int32(list_of_points.max(axis=0).ravel() + 0.5)\n",
    "\n",
    "    translation_dist = [-x_min, -y_min]\n",
    "    H_translation = np.array([[1, 0, translation_dist[0]], [0, 1, translation_dist[1]], [0,0,1]])\n",
    "\n",
    "    output_img = cv.warpPerspective(img2, H_translation.dot(H), (x_max - x_min, y_max - y_min))\n",
    "    output_img[translation_dist[1]:rows1+translation_dist[1],translation_dist[0]:cols1+translation_dist[0]] = img1\n",
    "    return output_img"
   ]
  },
  {
   "cell_type": "code",
   "execution_count": 105,
   "metadata": {},
   "outputs": [
    {
     "data": {
      "text/plain": [
       "True"
      ]
     },
     "execution_count": 105,
     "metadata": {},
     "output_type": "execute_result"
    }
   ],
   "source": [
    "result = warpImages(img2,img1,M)\n",
    "cv.imwrite('task1_pano.jpg',result)"
   ]
  },
  {
   "cell_type": "code",
   "execution_count": null,
   "metadata": {},
   "outputs": [],
   "source": []
  }
 ],
 "metadata": {
  "kernelspec": {
   "display_name": "Python 3",
   "language": "python",
   "name": "python3"
  },
  "language_info": {
   "codemirror_mode": {
    "name": "ipython",
    "version": 3
   },
   "file_extension": ".py",
   "mimetype": "text/x-python",
   "name": "python",
   "nbconvert_exporter": "python",
   "pygments_lexer": "ipython3",
   "version": "3.6.6"
  }
 },
 "nbformat": 4,
 "nbformat_minor": 2
}
